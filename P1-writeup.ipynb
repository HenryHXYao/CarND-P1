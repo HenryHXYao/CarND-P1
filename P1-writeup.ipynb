{
 "cells": [
  {
   "cell_type": "markdown",
   "metadata": {},
   "source": [
    "# **Finding Lane Lines on the Road** \n",
    "\n",
    "## Reflection\n",
    "\n",
    "### 1. Description on my pipeline. \n",
    "\n",
    "My pipeline consisted of 7 steps.The images obtained in each step are plotted below and the order is from left to right and from up to bottom.\n",
    "<img src=\" ./test_images_output/performance_check.png\" width = 120% height = 120% />\n",
    "\n",
    "The steps from 2 to 6 are the same as the course introduces, so detailed explanations are ignored.\n",
    "\n",
    "#### Step 1. Generate the yellow and white mask\n",
    "\n",
    "The image is first converted to HSL color space as it is more robust than RGB color space. Two color masks (yellow and white) are generated and combined together using bitwise_or(). As we can see on the subfigure, the yellow and white lanes are successfully identified and seperated from the background.\n",
    "\n",
    "\n",
    "#### Step 2. Apply the mask on the original image\n",
    "\n",
    "\n",
    "#### Step 3. Converted the images to grayscale\n",
    "\n",
    "\n",
    "#### Step 4. Apply the gaussian_blur to reduce the noise\n",
    "\n",
    "\n",
    "#### Step 5. Use canny edge detection to obtain edges\n",
    "\n",
    "\n",
    "#### Step 6. Apply a region-of-interest mask\n",
    "\n",
    "\n",
    "#### Step 7. Find hough lines and interpolate the single left and right lanes\n",
    "\n",
    "In order to draw a single line on the left and right lanes, I modified the draw_lines() function in the following way. First hough lines are divided into lines_left and lines_right according to each line's slope (above zero or not). Then, to make performance check easy, the left line segments are drawn in green color and the right ones are drawn in blue color, which can be seen on the last subfigure above. These green and blue line segements are only added to the image in the test mode (test_flag == 1 in my codes) and  would be removed when the pipeline is tested on the video. Finally, the points in lines_left and lines_right are fitted using linear regression (np.polyfit(x,y,1)) to get two single lines representing the estimated left and right lanes. Theser two lines are drawn on the image in red.\n",
    "\n",
    "\n",
    "### The results on the tested images are:\n",
    "| solidWhiteCurve            |  solidWhiteRight  |              solidYellowCurve|\n",
    "|:-------------------------:|:-------------------------:|: ------------------------------:|\n",
    "![](./test_images_output/solidWhiteCurve.jpg) | ![](test_images_output/solidWhiteRight.jpg)|![](test_images_output/solidYellowCurve.jpg)\n",
    "\n",
    "| solidYellowCurve2            |  solidYellowLeft  | whiteCarLaneSwitch|\n",
    "|-------------------------|-------------------------| ------------------------------|\n",
    "![](./test_images_output/solidYellowCurve2.jpg) | ![](test_images_output/solidYellowLeft.jpg)|![](test_images_output/whiteCarLaneSwitch.jpg)  \n",
    "\n",
    "### 2. Potential shortcomings\n",
    "\n",
    "\n",
    "One potential shortcoming would be when there is shadow or light change, the algorithm will detect fake hough lines and fail to detect the lanes correctly, as the following two images shows in the challenge video:\n",
    "\n",
    "<img src=\"./test_videos_output/challenge1.JPG\" width = 30% height = 30% /> <img src=\"./test_videos_output/challenge1_1.JPG\" width = 30% height = 30% />\n",
    "\n",
    "\n",
    "Another shortcoming could be that the detected lanes are not smooth enough and have oscillations during detection.\n",
    "\n",
    "\n",
    "### 3. Suggest possible improvements\n",
    "\n",
    "Improvement for the light change would be to furthur improve the color-mask algorithm (step 1 and step 2) and combine different color filters in different color spaces (RGB, HSL).\n",
    "\n",
    "The improvement to smoothen the lanes could be to use the information from previous frames and introduce filters (moving average, kalman filter) to obtain more stable estimation of the lanes.\n"
   ]
  },
  {
   "cell_type": "code",
   "execution_count": null,
   "metadata": {},
   "outputs": [],
   "source": []
  }
 ],
 "metadata": {
  "kernelspec": {
   "display_name": "Python 3",
   "language": "python",
   "name": "python3"
  },
  "language_info": {
   "codemirror_mode": {
    "name": "ipython",
    "version": 3
   },
   "file_extension": ".py",
   "mimetype": "text/x-python",
   "name": "python",
   "nbconvert_exporter": "python",
   "pygments_lexer": "ipython3",
   "version": "3.6.3"
  }
 },
 "nbformat": 4,
 "nbformat_minor": 2
}
